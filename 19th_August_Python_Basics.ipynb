{
 "cells": [
  {
   "cell_type": "code",
   "execution_count": 2,
   "id": "0bc46f5c-b57d-4095-85a9-53881fb89b75",
   "metadata": {},
   "outputs": [
    {
     "name": "stdout",
     "output_type": "stream",
     "text": [
      "\n",
      "\t\t\t1. Python Program To Swap Two Number Without Using 3rd Variable\n",
      "\n",
      "Value of x before swapping:  10\n",
      "Value of y before swapping:  20\n",
      "\n",
      "Value of x after swapping:  20\n",
      "Value of y after swapping:  10\n"
     ]
    }
   ],
   "source": [
    "print('\\n\\t\\t\\t1. Python Program To Swap Two Number Without Using 3rd Variable\\n')\n",
    "x=10\n",
    "y=20\n",
    "print('Value of x before swapping: ',x)\n",
    "print('Value of y before swapping: ',y)\n",
    "        \n",
    "        #Logic starts here\n",
    "x=x+y                                    \n",
    "y=x-y\n",
    "x=x-y\n",
    "        #Logic end here\n",
    "\n",
    "print('\\nValue of x after swapping: ',x)\n",
    "print('Value of y after swapping: ',y)"
   ]
  },
  {
   "cell_type": "code",
   "execution_count": 3,
   "id": "77fae224-e040-49ae-ab7a-6d034c2efad7",
   "metadata": {},
   "outputs": [
    {
     "name": "stdout",
     "output_type": "stream",
     "text": [
      "\t\tPython Program to Calculate Area of Rectangle\n",
      "\n"
     ]
    },
    {
     "name": "stdin",
     "output_type": "stream",
     "text": [
      "Enter length:  25.50\n",
      "Enter width:  20.00\n"
     ]
    },
    {
     "name": "stdout",
     "output_type": "stream",
     "text": [
      "\t\tArea of rectangle:  510.0\n"
     ]
    }
   ],
   "source": [
    "print('\\t\\tPython Program to Calculate Area of Rectangle\\n')\n",
    "\n",
    "length=eval(input('Enter length: '))     #eval() used convert given datatype from string to inserted datatype.\n",
    "width=eval(input('Enter width: '))\n",
    "\n",
    "area = length * width                    #Calculation part\n",
    "\n",
    "print('\\t\\tArea of rectangle: ',area)\n"
   ]
  },
  {
   "cell_type": "code",
   "execution_count": 4,
   "id": "d51c2fa3-880f-4c87-9658-fee387e1dadd",
   "metadata": {},
   "outputs": [
    {
     "name": "stdout",
     "output_type": "stream",
     "text": [
      "\t\tProgram to convert Tempreature from Celsius to Fahrenheit\n",
      "\n"
     ]
    },
    {
     "name": "stdin",
     "output_type": "stream",
     "text": [
      "Enter tempreature in Celsius:  100\n"
     ]
    },
    {
     "name": "stdout",
     "output_type": "stream",
     "text": [
      "\t\tTempreature of 100 Celsius in Fahrenheit is 212.0\n"
     ]
    }
   ],
   "source": [
    "print('\\t\\tProgram to convert Tempreature from Celsius to Fahrenheit\\n')\n",
    "celsius=eval(input('Enter tempreature in Celsius: '))                         #eval() used to convert given datatype from string to inserted datatype.\n",
    "\n",
    "fahrenheit=celsius*(9/5)+32                                                   #Calculation part\n",
    "\n",
    "print('\\t\\tTempreature of {} Celsius in Fahrenheit is {}'.format(celsius,fahrenheit))"
   ]
  },
  {
   "cell_type": "code",
   "execution_count": 5,
   "id": "4c29ca65-7e2f-45f1-9d13-b215d5c80d0c",
   "metadata": {},
   "outputs": [
    {
     "name": "stdout",
     "output_type": "stream",
     "text": [
      "\t\tProgram to find length of given string\n",
      "\n"
     ]
    },
    {
     "name": "stdin",
     "output_type": "stream",
     "text": [
      "Enter your name: My name is Khan\n"
     ]
    },
    {
     "name": "stdout",
     "output_type": "stream",
     "text": [
      "Length of string: 15\n"
     ]
    }
   ],
   "source": [
    "print('\\t\\tProgram to find length of given string\\n')\n",
    "\n",
    "str=input('Enter your name:')\n",
    "\n",
    "print('Length of string:', len(str))        #len() function returns the length of given string."
   ]
  },
  {
   "cell_type": "code",
   "execution_count": 6,
   "id": "21d0326a-acc4-4ae0-944b-b7e582a0ea01",
   "metadata": {},
   "outputs": [
    {
     "name": "stdout",
     "output_type": "stream",
     "text": [
      "\t\tProgram To Count Vowels In A Sentance\n",
      "\n"
     ]
    },
    {
     "name": "stdin",
     "output_type": "stream",
     "text": [
      "Enter a sentance:  Yogesh Kumar Mishra\n"
     ]
    },
    {
     "name": "stdout",
     "output_type": "stream",
     "text": [
      "\t\n",
      "Number of vowels in the given sentance:  6\n"
     ]
    }
   ],
   "source": [
    "print('\\t\\tProgram To Count Vowels In A Sentance\\n')\n",
    "\n",
    "str=input('Enter a sentance: ')\n",
    "\n",
    "count=0\n",
    "for i in str:\n",
    "    if i in ['a','e','i','o','u','A','E','I','O','U']:              #Checking each character of string with list of vowel\n",
    "        count=count+1\n",
    "print('\\t\\nNumber of vowels in the given sentance: ',count)   "
   ]
  },
  {
   "cell_type": "code",
   "execution_count": 8,
   "id": "f8e3123b-8903-492a-9349-55d5309c5b39",
   "metadata": {},
   "outputs": [
    {
     "name": "stdout",
     "output_type": "stream",
     "text": [
      "\t\tProgram To Reverse String Using Slicing And Check Whether The String Is Palindrome Or Not\n",
      "\n"
     ]
    },
    {
     "name": "stdin",
     "output_type": "stream",
     "text": [
      "\tEnter a string:  Malayalam\n"
     ]
    },
    {
     "name": "stdout",
     "output_type": "stream",
     "text": [
      "\n",
      "\tReverse of given string:  malayalaM\n",
      "\n",
      "\tMalayalam is a Palindrome string\n"
     ]
    }
   ],
   "source": [
    "print('\\t\\tProgram To Reverse String Using Slicing And Check Whether The String Is Palindrome Or Not\\n')\n",
    "str=input('\\tEnter a string: ')\n",
    "\n",
    "reverse=str[::-1]                                   #Loigc to reverse string\n",
    "print('\\n\\tReverse of given string: ',reverse)\n",
    "\n",
    "if(str.lower() == reverse.lower()):                 #Logic for string comparison\n",
    "    print('\\n\\t{} is a Palindrome string'.format(str))\n",
    "else:\n",
    "    print('\\n\\t{} is not a Polindrome string'.format(str))  "
   ]
  },
  {
   "cell_type": "code",
   "execution_count": 9,
   "id": "fe00ff57-23dd-4731-82ad-3a124fc67e6f",
   "metadata": {},
   "outputs": [
    {
     "name": "stdout",
     "output_type": "stream",
     "text": [
      "\t\tPython Program To Print Sentance After Removing Spaces\n",
      "\n"
     ]
    },
    {
     "name": "stdin",
     "output_type": "stream",
     "text": [
      "\tEnter a sentance:  Yogesh Kumar Mishra\n"
     ]
    },
    {
     "name": "stdout",
     "output_type": "stream",
     "text": [
      "\n",
      "\tSentance with space:  Yogesh Kumar Mishra\n",
      "\n",
      "\tSentance without space:  YogeshKumarMishra\n"
     ]
    }
   ],
   "source": [
    "print('\\t\\tPython Program To Print Sentance After Removing Spaces\\n')\n",
    "str=input('\\tEnter a sentance: ')\n",
    "without_space=str.replace(\" \",\"\")\n",
    "print('\\n\\tSentance with space: ', str)\n",
    "print('\\n\\tSentance without space: ',without_space)"
   ]
  }
 ],
 "metadata": {
  "kernelspec": {
   "display_name": "Python 3 (ipykernel)",
   "language": "python",
   "name": "python3"
  },
  "language_info": {
   "codemirror_mode": {
    "name": "ipython",
    "version": 3
   },
   "file_extension": ".py",
   "mimetype": "text/x-python",
   "name": "python",
   "nbconvert_exporter": "python",
   "pygments_lexer": "ipython3",
   "version": "3.10.8"
  }
 },
 "nbformat": 4,
 "nbformat_minor": 5
}
